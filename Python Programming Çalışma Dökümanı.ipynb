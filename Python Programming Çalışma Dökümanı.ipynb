{
 "cells": [
  {
   "cell_type": "code",
   "execution_count": 1,
   "id": "95187776",
   "metadata": {},
   "outputs": [
    {
     "name": "stdout",
     "output_type": "stream",
     "text": [
      "Sıcaklık (°C): 28\n",
      "Nem (%): 70\n",
      "Hava durumu: Ilık\n"
     ]
    }
   ],
   "source": [
    "#if-else\n",
    "def hava_durumu(sicaklik, nem):\n",
    "  \"\"\"\n",
    "  Girilen sıcaklık ve nem değerlerine göre hava durumunu döndürür.\n",
    "\n",
    "  Args:\n",
    "    sicaklik: Sıcaklık değeri (°C).\n",
    "    nem: Nem değeri (%).\n",
    "\n",
    "  Returns:\n",
    "    Hava durumu.\n",
    "  \"\"\"\n",
    "\n",
    "  if sicaklik < 0:\n",
    "    return \"Dondurucu\"\n",
    "  elif sicaklik <= 10:\n",
    "    return \"Soğuk\"\n",
    "  elif sicaklik <= 20:\n",
    "    return \"Serin\"\n",
    "  elif sicaklik <= 30:\n",
    "    return \"Ilık\"\n",
    "  elif sicaklik <= 40:\n",
    "    return \"Sıcak\"\n",
    "  else:\n",
    "    return \"Aşırı sıcak\"\n",
    "\n",
    "\n",
    "if __name__ == \"__main__\":\n",
    "  sicaklik = int(input(\"Sıcaklık (°C): \"))\n",
    "  nem = int(input(\"Nem (%): \"))\n",
    "  hava_durumu = hava_durumu(sicaklik, nem)\n",
    "  print(f\"Hava durumu: {hava_durumu}\")\n"
   ]
  },
  {
   "cell_type": "code",
   "execution_count": 6,
   "id": "ac038b29",
   "metadata": {},
   "outputs": [
    {
     "name": "stdout",
     "output_type": "stream",
     "text": [
      "Bir üst sınır girin: 4\n",
      "1 tek sayıdır.\n",
      "2 çift sayıdır.\n",
      "3 tek sayıdır.\n",
      "4 çift sayıdır.\n",
      "Program sona erdi.\n"
     ]
    }
   ],
   "source": [
    "# Kullanıcıdan bir üst sınır alalım\n",
    "ust_sinir = int(input(\"Bir üst sınır girin: \"))\n",
    "\n",
    "# 1'den başlayarak kullanıcının girdiği üst sınıra kadar olan sayıları yazdıralım\n",
    "sayac = 1\n",
    "while sayac <= ust_sinir:\n",
    "    # Sayı çift ise ekrana yazdıralım\n",
    "    if sayac % 2 == 0:\n",
    "        print(sayac, \"çift sayıdır.\")\n",
    "    else:\n",
    "        print(sayac, \"tek sayıdır.\")\n",
    "    \n",
    "    # Sayacı bir arttıralım\n",
    "    sayac += 1\n",
    "\n",
    "print(\"Program sona erdi.\")\n"
   ]
  },
  {
   "cell_type": "code",
   "execution_count": 7,
   "id": "7f98275f",
   "metadata": {},
   "outputs": [
    {
     "name": "stdout",
     "output_type": "stream",
     "text": [
      "Bir sayı girin: 5\n",
      "5 sayısının faktöriyeli: 120\n"
     ]
    }
   ],
   "source": [
    "#for\n",
    "# Kullanıcıdan bir sayı alalım\n",
    "sayi = int(input(\"Bir sayı girin: \"))\n",
    "\n",
    "# Sayının faktöriyelini hesaplayalım\n",
    "faktoriyel = 1\n",
    "for i in range(1, sayi + 1):\n",
    "    faktoriyel *= i\n",
    "\n",
    "print(f\"{sayi} sayısının faktöriyeli: {faktoriyel}\")\n"
   ]
  },
  {
   "cell_type": "code",
   "execution_count": 8,
   "id": "f1f35336",
   "metadata": {},
   "outputs": [
    {
     "name": "stdout",
     "output_type": "stream",
     "text": [
      "Adınızı girin: Aslı\n",
      "Yaşınızı girin: 18\n",
      "Merhaba Aslı, reşitsiniz.\n"
     ]
    }
   ],
   "source": [
    "#user input\n",
    "# Kullanıcıdan adını ve yaşını alalım\n",
    "ad = input(\"Adınızı girin: \")\n",
    "yas = int(input(\"Yaşınızı girin: \"))\n",
    "\n",
    "# Kullanıcının yaşına göre mesaj verelim\n",
    "if yas < 18:\n",
    "    print(\"Merhaba {}, henüz reşit değilsiniz.\".format(ad))\n",
    "else:\n",
    "    print(\"Merhaba {}, reşitsiniz.\".format(ad))"
   ]
  },
  {
   "cell_type": "code",
   "execution_count": 9,
   "id": "c0b15abb",
   "metadata": {},
   "outputs": [
    {
     "name": "stdout",
     "output_type": "stream",
     "text": [
      "Listenin ilk 5 elemanı: [1, 2, 3, 4, 5]\n",
      "Listenin ortasındaki elemanlar: [4, 5, 6, 7]\n",
      "Listenin son 3 elemanı: [8, 9, 10]\n",
      "Listenin ters çevrilmiş hali: [10, 9, 8, 7, 6, 5, 4, 3, 2, 1]\n",
      "Listenin 2'şer atlayarak alınmış hali: [1, 3, 5, 7, 9]\n"
     ]
    }
   ],
   "source": [
    "#slicing\n",
    "# Bir liste oluşturalım\n",
    "liste = [1, 2, 3, 4, 5, 6, 7, 8, 9, 10]\n",
    "\n",
    "# Listenin ilk 5 elemanını alalım\n",
    "ilk_bes = liste[:5]\n",
    "print(\"Listenin ilk 5 elemanı:\", ilk_bes)\n",
    "\n",
    "# Listenin ortasındaki elemanları alalım\n",
    "orta_elemanlar = liste[3:7]\n",
    "print(\"Listenin ortasındaki elemanlar:\", orta_elemanlar)\n",
    "\n",
    "# Listenin son 3 elemanını alalım\n",
    "son_uc = liste[-3:]\n",
    "print(\"Listenin son 3 elemanı:\", son_uc)\n",
    "\n",
    "# Liste elemanlarını ters çevirelim\n",
    "ters_liste = liste[::-1]\n",
    "print(\"Listenin ters çevrilmiş hali:\", ters_liste)\n",
    "\n",
    "# Liste elemanlarını 2'şer atlayarak alalım\n",
    "iki_atlayarak = liste[::2]\n",
    "print(\"Listenin 2'şer atlayarak alınmış hali:\", iki_atlayarak)\n"
   ]
  },
  {
   "cell_type": "code",
   "execution_count": 10,
   "id": "7815e42d",
   "metadata": {},
   "outputs": [
    {
     "name": "stdout",
     "output_type": "stream",
     "text": [
      "İki listenin elemanlarının toplamı: [7, 9, 11, 13, 15]\n",
      "Toplam liste içindeki çift sayılar: []\n",
      "Toplam liste elemanlarının kareleri: [49, 81, 121, 169, 225]\n",
      "Toplam liste elemanlarının ters çevrilmiş hali: [15, 13, 11, 9, 7]\n",
      "Toplam liste elemanlarının sıralanmış hali: [7, 9, 11, 13, 15]\n"
     ]
    }
   ],
   "source": [
    "#Lists\n",
    "# İki liste oluşturalım\n",
    "liste1 = [1, 2, 3, 4, 5]\n",
    "liste2 = [6, 7, 8, 9, 10]\n",
    "\n",
    "# İki listenin elemanlarını toplayalım\n",
    "toplam_liste = [a + b for a, b in zip(liste1, liste2)]\n",
    "print(\"İki listenin elemanlarının toplamı:\", toplam_liste)\n",
    "\n",
    "# Liste elemanlarını filtreleyelim (örneğin, çift sayıları seçelim)\n",
    "cift_sayilar = [x for x in toplam_liste if x % 2 == 0]\n",
    "print(\"Toplam liste içindeki çift sayılar:\", cift_sayilar)\n",
    "\n",
    "# Liste elemanlarını karesini alalım\n",
    "kareleri = [x**2 for x in toplam_liste]\n",
    "print(\"Toplam liste elemanlarının kareleri:\", kareleri)\n",
    "\n",
    "# Liste elemanlarını ters çevirelim\n",
    "ters_liste = list(reversed(toplam_liste))\n",
    "print(\"Toplam liste elemanlarının ters çevrilmiş hali:\", ters_liste)\n",
    "\n",
    "# Liste elemanlarını sıralayalım\n",
    "sirali_liste = sorted(toplam_liste)\n",
    "print(\"Toplam liste elemanlarının sıralanmış hali:\", sirali_liste)\n"
   ]
  },
  {
   "cell_type": "code",
   "execution_count": 12,
   "id": "21d8f106",
   "metadata": {},
   "outputs": [
    {
     "name": "stdout",
     "output_type": "stream",
     "text": [
      "Dosyaya yazmak istediğiniz metni girin: x\n",
      "ornek_dosya.txt adlı dosyaya 'x' yazıldı.\n"
     ]
    }
   ],
   "source": [
    "#file input output\n",
    "# Kullanıcının gireceği metni bir dosyaya yazalım\n",
    "\n",
    "dosya_adi = \"ornek_dosya.txt\"\n",
    "\n",
    "# Dosyayı yazma modunda açalım (w modu, dosyayı oluşturur veya varsa üzerine yazar)\n",
    "with open(dosya_adi, 'w') as dosya:\n",
    "    # Kullanıcıdan bir metin isteyelim\n",
    "    metin = input(\"Dosyaya yazmak istediğiniz metni girin: \")\n",
    "    \n",
    "    # Metni dosyaya yazalım\n",
    "    dosya.write(metin)\n",
    "\n",
    "print(f\"{dosya_adi} adlı dosyaya '{metin}' yazıldı.\")\n"
   ]
  },
  {
   "cell_type": "code",
   "execution_count": 1,
   "id": "69a621b2",
   "metadata": {},
   "outputs": [
    {
     "name": "stdout",
     "output_type": "stream",
     "text": [
      "Birinci sayıyı girin: 10\n",
      "İkinci sayıyı girin: 20\n",
      "Yapmak istediğiniz işlemi seçin (+, -, *, /): -\n",
      "Sonuç: -10.0\n"
     ]
    }
   ],
   "source": [
    "#fonksiyonlar\n",
    "# Toplama fonksiyonu\n",
    "def topla(x, y):\n",
    "    return x + y\n",
    "\n",
    "# Çıkarma fonksiyonu\n",
    "def cikar(x, y):\n",
    "    return x - y\n",
    "\n",
    "# Çarpma fonksiyonu\n",
    "def carp(x, y):\n",
    "    return x * y\n",
    "\n",
    "# Bölme fonksiyonu\n",
    "def bol(x, y):\n",
    "    if y != 0:\n",
    "        return x / y\n",
    "    else:\n",
    "        return \"Bölen sıfır olamaz!\"\n",
    "\n",
    "# Kullanıcıdan iki sayı ve işlem türü alalım\n",
    "sayi1 = float(input(\"Birinci sayıyı girin: \"))\n",
    "sayi2 = float(input(\"İkinci sayıyı girin: \"))\n",
    "islem_turu = input(\"Yapmak istediğiniz işlemi seçin (+, -, *, /): \")\n",
    "\n",
    "# Seçilen işleme göre hesaplamayı yapalım\n",
    "if islem_turu == \"+\":\n",
    "    sonuc = topla(sayi1, sayi2)\n",
    "elif islem_turu == \"-\":\n",
    "    sonuc = cikar(sayi1, sayi2)\n",
    "elif islem_turu == \"*\":\n",
    "    sonuc = carp(sayi1, sayi2)\n",
    "elif islem_turu == \"/\":\n",
    "    sonuc = bol(sayi1, sayi2)\n",
    "else:\n",
    "    sonuc = \"Geçersiz işlem türü\"\n",
    "\n",
    "# Sonucu ekrana yazdıralım\n",
    "print(f\"Sonuç: {sonuc}\")\n",
    "\n"
   ]
  },
  {
   "cell_type": "code",
   "execution_count": 2,
   "id": "922d6dea",
   "metadata": {},
   "outputs": [
    {
     "name": "stdout",
     "output_type": "stream",
     "text": [
      "Bir sayı girin: 10\n",
      "Girdiğiniz sayının iki katı: 20.0\n"
     ]
    }
   ],
   "source": [
    "#try except\n",
    "# Kullanıcıdan bir sayı girişi alalım\n",
    "try:\n",
    "    sayi = float(input(\"Bir sayı girin: \"))\n",
    "    \n",
    "    # Kullanıcının girdiği sayıyı iki katına çıkartalım\n",
    "    sonuc = sayi * 2\n",
    "    \n",
    "    # Sonucu ekrana yazdıralım\n",
    "    print(\"Girdiğiniz sayının iki katı:\", sonuc)\n",
    "\n",
    "except ValueError:\n",
    "    print(\"Hata: Geçersiz bir sayı girişi yapıldı.\")\n",
    "except Exception as hata:\n",
    "    print(f\"Bir hata oluştu: {hata}\")\n"
   ]
  },
  {
   "cell_type": "code",
   "execution_count": 3,
   "id": "5aa48e9b",
   "metadata": {},
   "outputs": [
    {
     "name": "stdout",
     "output_type": "stream",
     "text": [
      "Meyveler: ('Elma', 'Armut', 'Çilek', 'Muz', 'Üzüm')\n",
      "İkinci meyve: Armut\n",
      "Belirli bir dilim: ('Çilek', 'Muz', 'Üzüm')\n",
      "Tüm Meyveler: ('Elma', 'Armut', 'Çilek', 'Muz', 'Üzüm', 'Kiraz', 'Portakal')\n"
     ]
    }
   ],
   "source": [
    "#tuples\n",
    "# Bir tuple oluşturalım\n",
    "meyveler = (\"Elma\", \"Armut\", \"Çilek\", \"Muz\", \"Üzüm\")\n",
    "\n",
    "# Tuple'ın elemanlarını ekrana yazdıralım\n",
    "print(\"Meyveler:\", meyveler)\n",
    "\n",
    "# Tuple'ın belirli bir indeksindeki elemanı alalım\n",
    "print(\"İkinci meyve:\", meyveler[1])\n",
    "\n",
    "# Tuple'ın belirli bir dilimini alalım\n",
    "alt_liste = meyveler[2:5]\n",
    "print(\"Belirli bir dilim:\", alt_liste)\n",
    "\n",
    "# Tuple'ın elemanlarını değiştiremeyiz (immutable)\n",
    "# Ancak, iki tuple'ı birleştirerek yeni bir tuple oluşturabiliriz\n",
    "ekstra_meyveler = (\"Kiraz\", \"Portakal\")\n",
    "tum_meyveler = meyveler + ekstra_meyveler\n",
    "print(\"Tüm Meyveler:\", tum_meyveler)\n"
   ]
  },
  {
   "cell_type": "code",
   "execution_count": 4,
   "id": "5856c603",
   "metadata": {},
   "outputs": [
    {
     "name": "stdout",
     "output_type": "stream",
     "text": [
      "Öğrenci Bilgileri:\n",
      "Ad: Ahmet\n",
      "Soyad: Yılmaz\n",
      "Yaş: 22\n",
      "Notlar: {'matematik': 85, 'fizik': 90, 'kimya': 78}\n",
      "Güncellenmiş Öğrenci Bilgileri:\n",
      "Ad: Ahmet\n",
      "Soyad: Yılmaz\n",
      "Yaş: 22\n",
      "Notlar: {'matematik': 85, 'fizik': 90, 'kimya': 78}\n",
      "Bölüm: Bilgisayar Mühendisliği\n"
     ]
    }
   ],
   "source": [
    "#dictionary\n",
    "# Bir sözlük oluşturalım\n",
    "ogrenci = {\n",
    "    \"ad\": \"Ahmet\",\n",
    "    \"soyad\": \"Yılmaz\",\n",
    "    \"yas\": 22,\n",
    "    \"notlar\": {\"matematik\": 85, \"fizik\": 90, \"kimya\": 78}\n",
    "}\n",
    "\n",
    "# Sözlüğün elemanlarını ekrana yazdıralım\n",
    "print(\"Öğrenci Bilgileri:\")\n",
    "print(\"Ad:\", ogrenci[\"ad\"])\n",
    "print(\"Soyad:\", ogrenci[\"soyad\"])\n",
    "print(\"Yaş:\", ogrenci[\"yas\"])\n",
    "print(\"Notlar:\", ogrenci[\"notlar\"])\n",
    "\n",
    "# Sözlüğe yeni bir eleman ekleyelim\n",
    "ogrenci[\"bolum\"] = \"Bilgisayar Mühendisliği\"\n",
    "\n",
    "# Sözlüğün güncellenmiş halini ekrana yazdıralım\n",
    "print(\"Güncellenmiş Öğrenci Bilgileri:\")\n",
    "print(\"Ad:\", ogrenci[\"ad\"])\n",
    "print(\"Soyad:\", ogrenci[\"soyad\"])\n",
    "print(\"Yaş:\", ogrenci[\"yas\"])\n",
    "print(\"Notlar:\", ogrenci[\"notlar\"])\n",
    "print(\"Bölüm:\", ogrenci[\"bolum\"])\n"
   ]
  },
  {
   "cell_type": "code",
   "execution_count": 5,
   "id": "fbf49f2f",
   "metadata": {},
   "outputs": [
    {
     "name": "stdout",
     "output_type": "stream",
     "text": [
      "Liste: [1, 2, 3, 4, 5]\n",
      "Tuple: (10, 20, 30, 40, 50)\n",
      "Set: {1, 2, 3, 4, 5}\n",
      "Sözlük: {'anahtar1': 'değer1', 'anahtar2': 'değer2', 'anahtar3': 'değer3'}\n"
     ]
    }
   ],
   "source": [
    "#containers\n",
    "# Liste (List)\n",
    "liste = [1, 2, 3, 4, 5]\n",
    "print(\"Liste:\", liste)\n",
    "\n",
    "# Tuple\n",
    "demet = (10, 20, 30, 40, 50)\n",
    "print(\"Tuple:\", demet)\n",
    "\n",
    "# Set\n",
    "kume = {1, 2, 3, 4, 5}\n",
    "print(\"Set:\", kume)\n",
    "\n",
    "# Sözlük (Dictionary)\n",
    "sozluk = {\"anahtar1\": \"değer1\", \"anahtar2\": \"değer2\", \"anahtar3\": \"değer3\"}\n",
    "print(\"Sözlük:\", sozluk)\n"
   ]
  },
  {
   "cell_type": "code",
   "execution_count": 6,
   "id": "f41e8a92",
   "metadata": {},
   "outputs": [
    {
     "name": "stdout",
     "output_type": "stream",
     "text": [
      "Küme 1: {1, 2, 3, 4, 5}\n",
      "Küme 2: {4, 5, 6, 7, 8}\n",
      "Birleşim (Union): {1, 2, 3, 4, 5, 6, 7, 8}\n",
      "Kesişim (Intersection): {4, 5}\n",
      "Fark 1 (kume1 - kume2): {1, 2, 3}\n",
      "Fark 2 (kume2 - kume1): {8, 6, 7}\n",
      "Güncellenmiş Küme 1: {1, 2, 3, 4, 5, 6, 7, 8}\n"
     ]
    }
   ],
   "source": [
    "#sets \n",
    "# İki küme oluşturalım\n",
    "kume1 = {1, 2, 3, 4, 5}\n",
    "kume2 = {4, 5, 6, 7, 8}\n",
    "\n",
    "# Küme elemanlarını ekrana yazdıralım\n",
    "print(\"Küme 1:\", kume1)\n",
    "print(\"Küme 2:\", kume2)\n",
    "\n",
    "# İki kümenin birleşimini alalım\n",
    "bilesim = kume1.union(kume2)\n",
    "print(\"Birleşim (Union):\", bilesim)\n",
    "\n",
    "# İki kümenin kesişimini alalım\n",
    "kesisim = kume1.intersection(kume2)\n",
    "print(\"Kesişim (Intersection):\", kesisim)\n",
    "\n",
    "# Bir kümeden diğerini çıkaralım\n",
    "fark1 = kume1.difference(kume2)\n",
    "fark2 = kume2.difference(kume1)\n",
    "print(\"Fark 1 (kume1 - kume2):\", fark1)\n",
    "print(\"Fark 2 (kume2 - kume1):\", fark2)\n",
    "\n",
    "# Bir küme üzerine diğerini ekleyelim\n",
    "kume1.update(kume2)\n",
    "print(\"Güncellenmiş Küme 1:\", kume1)\n"
   ]
  },
  {
   "cell_type": "code",
   "execution_count": 7,
   "id": "fb3baecd",
   "metadata": {},
   "outputs": [
    {
     "name": "stdout",
     "output_type": "stream",
     "text": [
      "0\n",
      "1\n",
      "2\n",
      "3\n",
      "4\n",
      "Döngü sonlandırıldı (break) çünkü sayı 5 oldu.\n",
      "0\n",
      "1\n",
      "2\n",
      "3\n",
      "4\n",
      "Bu adım atlandı (continue) çünkü sayı 5 oldu.\n",
      "6\n",
      "7\n",
      "8\n",
      "9\n"
     ]
    }
   ],
   "source": [
    "#break / continue\n",
    "# break örneği\n",
    "for sayi in range(10):\n",
    "    if sayi == 5:\n",
    "        print(\"Döngü sonlandırıldı (break) çünkü sayı 5 oldu.\")\n",
    "        break\n",
    "    print(sayi)\n",
    "\n",
    "# continue örneği\n",
    "for sayi in range(10):\n",
    "    if sayi == 5:\n",
    "        print(\"Bu adım atlandı (continue) çünkü sayı 5 oldu.\")\n",
    "        continue\n",
    "    print(sayi)\n"
   ]
  },
  {
   "cell_type": "code",
   "execution_count": 8,
   "id": "767370d6",
   "metadata": {},
   "outputs": [
    {
     "name": "stdout",
     "output_type": "stream",
     "text": [
      "0 1 2 3 4 \n",
      "\n",
      "Index: 0, Meyve: Elma\n",
      "Index: 1, Meyve: Armut\n",
      "Index: 2, Meyve: Çilek\n",
      "Index: 3, Meyve: Muz\n",
      "\n",
      "Numara: 1, İsim: Ahmet\n",
      "Numara: 2, İsim: Ayşe\n",
      "Numara: 3, İsim: Mehmet\n",
      "Numara: 4, İsim: Zeynep\n"
     ]
    }
   ],
   "source": [
    "#range(), enumare(),zip()\n",
    "# range() fonksiyonu örneği\n",
    "for i in range(5):\n",
    "    print(i, end=\" \")\n",
    "print(\"\\n\")\n",
    "\n",
    "# enumerate() fonksiyonu örneği\n",
    "meyveler = [\"Elma\", \"Armut\", \"Çilek\", \"Muz\"]\n",
    "for index, meyve in enumerate(meyveler):\n",
    "    print(f\"Index: {index}, Meyve: {meyve}\")\n",
    "print()\n",
    "\n",
    "# zip() fonksiyonu örneği\n",
    "numaralar = [1, 2, 3, 4]\n",
    "isimler = [\"Ahmet\", \"Ayşe\", \"Mehmet\", \"Zeynep\"]\n",
    "for numara, isim in zip(numaralar, isimler):\n",
    "    print(f\"Numara: {numara}, İsim: {isim}\")\n"
   ]
  },
  {
   "cell_type": "code",
   "execution_count": 9,
   "id": "41b0730c",
   "metadata": {},
   "outputs": [
    {
     "name": "stdout",
     "output_type": "stream",
     "text": [
      "Kareler: [1, 4, 9, 16, 25, 36, 49, 64, 81, 100]\n"
     ]
    }
   ],
   "source": [
    "#list comprehension\n",
    "'''\n",
    "List comprehension, Python programlama dilinde listeleri oluşturmak ve işlemek\n",
    "için kullanılan kısa ve güçlü bir yapıdır. Bu yapı, daha açık, okunabilir ve\n",
    "kısa kod parçacıkları oluşturmanıza olanak tanır. List comprehension yapısı, \n",
    "bir veya birden fazla iterable'dan (örneğin, liste veya range) veri alarak\n",
    "yeni bir liste oluşturmanıza izin verir.'''\n",
    "\n",
    "# Liste comprehension örneği: 1'den 10'a kadar olan sayıların karesini içeren bir liste oluşturalım\n",
    "kareler = [x**2 for x in range(1, 11)]\n",
    "\n",
    "# Oluşturulan liste içeriğini ekrana yazdıralım\n",
    "print(\"Kareler:\", kareler)\n"
   ]
  },
  {
   "cell_type": "code",
   "execution_count": 10,
   "id": "26d71a24",
   "metadata": {},
   "outputs": [
    {
     "name": "stdout",
     "output_type": "stream",
     "text": [
      "Original Liste: [1, 2, ['x', 4], 5]\n",
      "Shallow Copy: [1, 2, ['x', 4], 5]\n",
      "Deep Copy: [1, 2, [3, 4], 5]\n"
     ]
    }
   ],
   "source": [
    "#shallow copy ve deep copy\n",
    "import copy\n",
    "\n",
    "# Original liste\n",
    "original_list = [1, 2, [3, 4], 5]\n",
    "\n",
    "# Shallow copy (Yüzeysel kopya)\n",
    "shallow_copy = copy.copy(original_list)\n",
    "\n",
    "# Deep copy (Derin kopya)\n",
    "deep_copy = copy.deepcopy(original_list)\n",
    "\n",
    "# Original listeyi değiştirelim\n",
    "original_list[2][0] = 'x'\n",
    "\n",
    "# Sonuçları yazdıralım\n",
    "print(\"Original Liste:\", original_list)\n",
    "print(\"Shallow Copy:\", shallow_copy)\n",
    "print(\"Deep Copy:\", deep_copy)\n"
   ]
  },
  {
   "cell_type": "code",
   "execution_count": 12,
   "id": "b14c94a0",
   "metadata": {},
   "outputs": [
    {
     "name": "stdout",
     "output_type": "stream",
     "text": [
      "Adınızı girin: Aslı\n",
      "Merhaba, Aslı! Bu bir Python script'idir.\n"
     ]
    }
   ],
   "source": [
    "#script\n",
    "'''Python'da \"script\", genellikle belirli bir görevi yerine getirmek üzere tasarlanmış, yürütülebilir bir Python programını ifade eder. Script'ler genellikle metin dosyaları olarak saklanır ve genellikle .py uzantısıyla biter. Script'ler genellikle komut satırında veya bir Python yürütme ortamında çalıştırılır.'''\n",
    "# Bu bir Python script örneğidir.\n",
    "\n",
    "# Kullanıcıdan adı alınır\n",
    "isim = input(\"Adınızı girin: \")\n",
    "\n",
    "# Selam verilir\n",
    "print(f\"Merhaba, {isim}! Bu bir Python script'idir.\")\n"
   ]
  },
  {
   "cell_type": "code",
   "execution_count": 13,
   "id": "40ddf638",
   "metadata": {},
   "outputs": [
    {
     "name": "stdout",
     "output_type": "stream",
     "text": [
      "Fonksiyon İçindeki Local Değişken: 5\n",
      "Fonksiyon İçindeki Global Değişken: 11\n",
      "Global Değişkenin Değeri: 11\n"
     ]
    }
   ],
   "source": [
    "#local-global variable\n",
    "# Global değişken\n",
    "global_degisken = 10\n",
    "\n",
    "def fonksiyon():\n",
    "    # Local değişken\n",
    "    local_degisken = 5\n",
    "    print(\"Fonksiyon İçindeki Local Değişken:\", local_degisken)\n",
    "\n",
    "    # Global değişkene erişim\n",
    "    global global_degisken\n",
    "    global_degisken += 1\n",
    "    print(\"Fonksiyon İçindeki Global Değişken:\", global_degisken)\n",
    "\n",
    "# Fonksiyonu çağır\n",
    "fonksiyon()\n",
    "\n",
    "# Global değişkenin değeri\n",
    "print(\"Global Değişkenin Değeri:\", global_degisken)\n",
    "\n",
    "# Local değişkenin değeri\n",
    "# Eğer bu satırı çalıştırmaya çalışırsanız hata alırsınız,\n",
    "# çünkü local_degisken sadece fonksiyon içinde tanımlıdır ve fonksiyon dışında erişilemez.\n",
    "# print(\"Local Değişkenin Değeri:\", local_degisken)\n"
   ]
  },
  {
   "cell_type": "code",
   "execution_count": 14,
   "id": "3e76ce19",
   "metadata": {},
   "outputs": [
    {
     "name": "stdout",
     "output_type": "stream",
     "text": [
      "Merhaba, Ahmet!\n",
      "Nasılsın, Ayşe!\n"
     ]
    }
   ],
   "source": [
    "#default/keywords arguments\n",
    "def selam_ver(isim, mesaj=\"Merhaba\"):\n",
    "    \"\"\"\n",
    "    Bu fonksiyon, belirli bir mesajla bir kişiye selam verir.\n",
    "    \n",
    "    Parametreler:\n",
    "    - isim: Selam verilecek kişinin ismi\n",
    "    - mesaj: Selamda kullanılacak varsayılan mesaj (varsayılan değeri \"Merhaba\")\n",
    "    \"\"\"\n",
    "    print(f\"{mesaj}, {isim}!\")\n",
    "\n",
    "# Fonksiyonu çağır, sadece isim belirtilirse varsayılan mesaj kullanılır\n",
    "selam_ver(\"Ahmet\")\n",
    "\n",
    "# İsim ve özel bir mesaj belirtilirse, belirtilen mesaj kullanılır\n",
    "selam_ver(\"Ayşe\", \"Nasılsın\")\n"
   ]
  },
  {
   "cell_type": "code",
   "execution_count": 18,
   "id": "aecd78b9",
   "metadata": {},
   "outputs": [
    {
     "name": "stdout",
     "output_type": "stream",
     "text": [
      "Bir sayı girin: a\n",
      "Hata: Geçerli bir sayı girişi yapmadınız.\n"
     ]
    }
   ],
   "source": [
    "#error checking\n",
    "def kare_kok_al():\n",
    "    try:\n",
    "        # Kullanıcıdan bir sayı girişi alınır\n",
    "        sayi = float(input(\"Bir sayı girin: \"))\n",
    "        \n",
    "        # Karekök alınır\n",
    "        karekok = sayi ** 0.5\n",
    "\n",
    "        # Sonuç ekrana yazdırılır\n",
    "        print(f\"{sayi}'nin karekökü: {karekok}\")\n",
    "\n",
    "    except ValueError:\n",
    "        # Hata durumunda kullanıcıya bilgi verilir\n",
    "        print(\"Hata: Geçerli bir sayı girişi yapmadınız.\")\n",
    "\n",
    "# Fonksiyon çağrılır\n",
    "kare_kok_al()\n"
   ]
  },
  {
   "cell_type": "code",
   "execution_count": 19,
   "id": "ef4b609d",
   "metadata": {},
   "outputs": [
    {
     "name": "stdout",
     "output_type": "stream",
     "text": [
      "Hata: Bölen sıfır olamaz.\n"
     ]
    }
   ],
   "source": [
    "#raise statement\n",
    "'''raise ifadesi, Python'da özel bir hata (exception) fırlatmak için kullanılır.\n",
    "Bu ifade, bir hata durumunu belirtir ve programın normal akışını bozar. '''\n",
    "def bolme_islemi(sayi1, sayi2):\n",
    "    if sayi2 == 0:\n",
    "        # Sıfıra bölme hatası durumunda özel bir hata fırlatılır\n",
    "        raise ValueError(\"Bölen sıfır olamaz.\")\n",
    "    \n",
    "    # Bölme işlemi yapılır\n",
    "    sonuc = sayi1 / sayi2\n",
    "    return sonuc\n",
    "\n",
    "# Örnek kullanım\n",
    "try:\n",
    "    # Bölme işlemi çağrılır\n",
    "    sonuc = bolme_islemi(10, 0)\n",
    "    print(\"Sonuç:\", sonuc)\n",
    "\n",
    "except ValueError as hata:\n",
    "    # Özel hata durumu ele alınır\n",
    "    print(f\"Hata: {hata}\")\n"
   ]
  },
  {
   "cell_type": "code",
   "execution_count": 22,
   "id": "0827f14c",
   "metadata": {},
   "outputs": [
    {
     "name": "stdout",
     "output_type": "stream",
     "text": [
      "Hata oluştu: division by zero\n",
      "Tekrarlanan Hata: division by zero\n"
     ]
    }
   ],
   "source": [
    "#reraising exception \n",
    "def islem_yapan_fonksiyon():\n",
    "    try:\n",
    "        # Hata oluşturacak bir işlem yapalım\n",
    "        sayi = 10 / 0\n",
    "\n",
    "    except ZeroDivisionError as hata:\n",
    "        print(f\"Hata oluştu: {hata}\")\n",
    "\n",
    "        # Hatanın aynısını tekrar fırlatalım\n",
    "        raise\n",
    "\n",
    "# Fonksiyonu çağır\n",
    "try:\n",
    "    islem_yapan_fonksiyon()\n",
    "\n",
    "except ZeroDivisionError as hata:\n",
    "    print(f\"Tekrarlanan Hata: {hata}\")\n",
    "\n"
   ]
  },
  {
   "cell_type": "code",
   "execution_count": 23,
   "id": "6746e53f",
   "metadata": {},
   "outputs": [
    {
     "name": "stdout",
     "output_type": "stream",
     "text": [
      "Dosya İçeriği: x\n",
      "Dosya kapatıldı.\n"
     ]
    }
   ],
   "source": [
    "#finally statement\n",
    "try:\n",
    "    # Bir dosyayı açalım ve içeriğini okuyalım\n",
    "    dosya = open(\"ornek_dosya.txt\", \"r\")\n",
    "    icerik = dosya.read()\n",
    "    print(\"Dosya İçeriği:\", icerik)\n",
    "\n",
    "except FileNotFoundError:\n",
    "    print(\"Hata: Dosya bulunamadı.\")\n",
    "\n",
    "finally:\n",
    "    # Dosyayı her durumda kapat\n",
    "    if 'dosya' in locals():\n",
    "        dosya.close()\n",
    "        print(\"Dosya kapatıldı.\")\n"
   ]
  },
  {
   "cell_type": "code",
   "execution_count": 25,
   "id": "77f082d0",
   "metadata": {},
   "outputs": [
    {
     "name": "stdout",
     "output_type": "stream",
     "text": [
      "Dosya İçeriği: x\n",
      "Dosya kapalı.\n"
     ]
    }
   ],
   "source": [
    "#with statement\n",
    "# Dosyayı açma ve içeriğini okuma\n",
    "with open(\"ornek_dosya.txt\", \"r\") as dosya:\n",
    "    icerik = dosya.read()\n",
    "    print(\"Dosya İçeriği:\", icerik)\n",
    "\n",
    "# Dosya otomatik olarak kapatıldıktan sonra devam eden kodlar buraya gelir\n",
    "#dosya açık mı kapalı mı kontrolu \n",
    "if dosya.closed:\n",
    "    print(\"Dosya kapalı.\")\n",
    "else:\n",
    "    print(\"Dosya açık.\")\n"
   ]
  },
  {
   "cell_type": "code",
   "execution_count": 26,
   "id": "2219f4c4",
   "metadata": {},
   "outputs": [
    {
     "name": "stdout",
     "output_type": "stream",
     "text": [
      "Global değişken fonksiyon içinde erişilebilir: Bu global bir değişkendir\n",
      "Local değişken fonksiyon içinde erişilebilir: Bu lokal bir değişkendir\n",
      "Global değişken fonksiyon dışında erişilebilir: Bu global bir değişkendir\n"
     ]
    }
   ],
   "source": [
    "#namespaces\n",
    "'''\n",
    "Namespaces (isim alanları), Python'da değişken, \n",
    "fonksiyon ve diğer nesnelerin tanımlandığı ve bu nesnelerin erişilebilir olduğu yerleri \n",
    "ifade eder. Python, global ve lokal isim alanları olmak üzere iki temel türde isim alanı sağlar.'''\n",
    "# Global isim alanında bir değişken tanımla\n",
    "global_degisken = \"Bu global bir değişkendir\"\n",
    "\n",
    "# Bir fonksiyon tanımla\n",
    "def lokal_isim_alani_ornek():\n",
    "    # Local isim alanında bir değişken tanımla\n",
    "    lokal_degisken = \"Bu lokal bir değişkendir\"\n",
    "    \n",
    "    # Global isim alanındaki bir değişkene eriş\n",
    "    print(\"Global değişken fonksiyon içinde erişilebilir:\", global_degisken)\n",
    "    \n",
    "    # Local isim alanındaki bir değişkene eriş\n",
    "    print(\"Local değişken fonksiyon içinde erişilebilir:\", lokal_degisken)\n",
    "\n",
    "# Fonksiyonu çağır\n",
    "lokal_isim_alani_ornek()\n",
    "\n",
    "# Global isim alanındaki bir değişkene fonksiyon dışında eriş\n",
    "print(\"Global değişken fonksiyon dışında erişilebilir:\", global_degisken)\n",
    "\n",
    "# Local isim alanındaki bir değişkene fonksiyon dışında erişilemez\n",
    "# Bu satırı çalıştırmaya çalışırsanız NameError alırsınız\n",
    "# print(\"Local değişken fonksiyon dışında erişilemez:\", lokal_degisken)\n",
    "\n"
   ]
  },
  {
   "cell_type": "code",
   "execution_count": 28,
   "id": "09e32035",
   "metadata": {},
   "outputs": [
    {
     "name": "stdout",
     "output_type": "stream",
     "text": [
      "Bu modül başka bir dosya tarafından içe aktarıldı.\n",
      "Bu modül bağımsız bir program olarak çalıştırıldı.\n",
      "Toplam: 8\n"
     ]
    }
   ],
   "source": [
    "#module execution\n",
    ",# modul_ornek.py\n",
    "\n",
    "print(\"Bu modül başka bir dosya tarafından içe aktarıldı.\")\n",
    "\n",
    "def topla(a, b):\n",
    "    return a + b\n",
    "\n",
    "if __name__ == \"__main__\":\n",
    "    print(\"Bu modül bağımsız bir program olarak çalıştırıldı.\")\n",
    "    sonuc = topla(5, 3)\n",
    "    print(\"Toplam:\", sonuc)\n",
    "'''Modül içinde if __name__ == \"__main__\": bloğu kullanılarak, modül doğrudan çalıştırıldığında bu blok içindeki kodlar çalışacak, ancak modül bir başka \n",
    "dosya tarafından içe aktarıldığında bu blok içindeki kodlar çalışmayacaktır. '''\n",
    "    \n"
   ]
  },
  {
   "cell_type": "code",
   "execution_count": 29,
   "id": "8e17a7b9",
   "metadata": {},
   "outputs": [
    {
     "name": "stdout",
     "output_type": "stream",
     "text": [
      "Bu dosya bağımsız bir program olarak çalıştırıldı.\n",
      "Toplam: 8\n",
      "Çarpım: 24\n"
     ]
    }
   ],
   "source": [
    "#main module\n",
    "# main_module_ornek.py\n",
    "\n",
    "def topla(a, b):\n",
    "    return a + b\n",
    "\n",
    "def carp(a, b):\n",
    "    return a * b\n",
    "\n",
    "if __name__ == \"__main__\":\n",
    "    # Bu blok, dosya doğrudan çalıştırıldığında çalışır\n",
    "    print(\"Bu dosya bağımsız bir program olarak çalıştırıldı.\")\n",
    "\n",
    "    # Modül içindeki fonksiyonları çağır\n",
    "    print(\"Toplam:\", topla(5, 3))\n",
    "    print(\"Çarpım:\", carp(4, 6))\n",
    "else:\n",
    "    # Bu blok, dosya başka bir dosya tarafından içe aktarıldığında çalışır\n",
    "    print(\"Bu dosya bir modül olarak içe aktarıldı.\")\n",
    "\n",
    "    '''\n",
    "Python'da bir dosyanın (modülün) bağımsız bir program olarak çalıştırılması için __name__ özel değişkenini kullanabiliriz. \n",
    "Eğer bir Python dosyası doğrudan çalıştırılıyorsa, __name__ özel değişkeni \"__main__\" olarak ayarlanır.\n",
    "Bu durumu kullanarak, bir dosyanın hem bir modül olarak başka dosyalar tarafından içe aktarılabilmesini hem de bağımsız bir program olarak çalıştırılabilmesini sağlayabiliriz.'''"
   ]
  },
  {
   "cell_type": "code",
   "execution_count": 30,
   "id": "a3e6d389",
   "metadata": {},
   "outputs": [
    {
     "name": "stdout",
     "output_type": "stream",
     "text": [
      "Bu dosya bağımsız bir program olarak çalıştırıldı.\n",
      "Toplam: 8\n",
      "Çarpım: 24\n"
     ]
    }
   ],
   "source": [
    "#__main__ check\n",
    "# main_check_ornek.py\n",
    "\n",
    "def topla(a, b):\n",
    "    return a + b\n",
    "\n",
    "def carp(a, b):\n",
    "    return a * b\n",
    "\n",
    "if __name__ == \"__main__\":\n",
    "    # Bu blok, dosya doğrudan çalıştırıldığında çalışır\n",
    "    print(\"Bu dosya bağımsız bir program olarak çalıştırıldı.\")\n",
    "\n",
    "    # Modül içindeki fonksiyonları çağır\n",
    "    print(\"Toplam:\", topla(5, 3))\n",
    "    print(\"Çarpım:\", carp(4, 6))\n",
    "else:\n",
    "    # Bu blok, dosya başka bir dosya tarafından içe aktarıldığında çalışır\n",
    "    print(\"Bu dosya bir modül olarak içe aktarıldı.\")\n"
   ]
  },
  {
   "cell_type": "code",
   "execution_count": 31,
   "id": "8deb0fa6",
   "metadata": {},
   "outputs": [
    {
     "name": "stdout",
     "output_type": "stream",
     "text": [
      "Toyota Corolla - Durum: Durduruldu\n",
      "Toyota Corolla çalıştırıldı.\n",
      "Toyota Corolla - Durum: Çalışıyor\n",
      "Toyota Corolla durduruldu.\n",
      "Toyota Corolla - Durum: Durduruldu\n"
     ]
    }
   ],
   "source": [
    "#__init__\n",
    "'''\n",
    "__init__ fonksiyonu, bir sınıf (class) tanımlandığında otomatik olarak çağrılan özel bir metodtur. Bu metodun görevi, sınıfın bir örneği (instance) oluşturulduğunda başlatılacak başlangıç durumunu belirlemektir.\n",
    "__init__ metodu, sınıfın bir örneği oluşturulduğunda çağrılarak örneği başlatır ve gerekli başlangıç değerlerini ayarlamak için kullanılır.'''\n",
    "class Araba:\n",
    "    def __init__(self, marka, model, yil):\n",
    "        # __init__ metodu, sınıfın bir örneği oluşturulduğunda çağrılır\n",
    "        self.marka = marka\n",
    "        self.model = model\n",
    "        self.yil = yil\n",
    "        self.durum = \"Durduruldu\"\n",
    "\n",
    "    def calistir(self):\n",
    "        # Araba çalıştırıldığında durumu güncelle\n",
    "        self.durum = \"Çalışıyor\"\n",
    "        print(f\"{self.marka} {self.model} çalıştırıldı.\")\n",
    "\n",
    "    def durdur(self):\n",
    "        # Araba durdurulduğunda durumu güncelle\n",
    "        self.durum = \"Durduruldu\"\n",
    "        print(f\"{self.marka} {self.model} durduruldu.\")\n",
    "\n",
    "# Araba sınıfından bir örnek oluştur\n",
    "araba1 = Araba(marka=\"Toyota\", model=\"Corolla\", yil=2022)\n",
    "\n",
    "# Araba'nın durumunu kontrol et\n",
    "print(f\"{araba1.marka} {araba1.model} - Durum: {araba1.durum}\")\n",
    "\n",
    "# Araba'yı çalıştır\n",
    "araba1.calistir()\n",
    "\n",
    "# Araba'nın durumunu tekrar kontrol et\n",
    "print(f\"{araba1.marka} {araba1.model} - Durum: {araba1.durum}\")\n",
    "\n",
    "# Araba'yı durdur\n",
    "araba1.durdur()\n",
    "\n",
    "# Araba'nın durumunu tekrar kontrol et\n",
    "print(f\"{araba1.marka} {araba1.model} - Durum: {araba1.durum}\")\n"
   ]
  },
  {
   "cell_type": "code",
   "execution_count": 32,
   "id": "d9c2b78f",
   "metadata": {},
   "outputs": [
    {
     "data": {
      "text/plain": [
       "\"self, Python sınıflarındaki bir geleneksel isimlendirmedir ve sınıfın bir örneğini (instance) temsil eder. self kelimesi, sınıfın kendi örneği üzerinde çalıştığını ifade eder. Yani, bir sınıf içindeki metodların ve özelliklerin o sınıfın bir örneği üzerinde çalışmasını sağlar.\\n\\nPython'da sınıfın bir örneği oluşturulduğunda, o örnek otomatik olarak self argümanıyla sınıfın metodlarına geçirilir. self adı geleneksel olmakla birlikte, Python'da zorunlu bir isim değildir; ancak, genel olarak bu terim kullanılarak sınıfın bir örneğini temsil ettiği ifade edilir.\""
      ]
     },
     "execution_count": 32,
     "metadata": {},
     "output_type": "execute_result"
    }
   ],
   "source": [
    "#pythonda self kavramı \n",
    "'''self, Python sınıflarındaki bir geleneksel isimlendirmedir ve sınıfın bir örneğini (instance) temsil eder. self kelimesi, sınıfın kendi örneği üzerinde çalıştığını ifade eder. Yani, bir sınıf içindeki metodların ve özelliklerin o sınıfın bir örneği üzerinde çalışmasını sağlar.\n",
    "\n",
    "Python'da sınıfın bir örneği oluşturulduğunda, o örnek otomatik olarak self argümanıyla sınıfın metodlarına geçirilir. self adı geleneksel olmakla birlikte, Python'da zorunlu bir isim değildir; ancak, genel olarak bu terim kullanılarak sınıfın bir örneğini temsil ettiği ifade edilir.'''\n"
   ]
  },
  {
   "cell_type": "code",
   "execution_count": 36,
   "id": "efb9ab83",
   "metadata": {},
   "outputs": [
    {
     "name": "stdout",
     "output_type": "stream",
     "text": [
      "Toyota Corolla çalıştırıldı. Yakıt türü: Benzin\n",
      "Toyota Corolla durduruldu.\n"
     ]
    }
   ],
   "source": [
    "#inheritance\n",
    "# Ana sınıf (base class)\n",
    "class Arac:\n",
    "    def __init__(self, marka, model):\n",
    "        self.marka = marka\n",
    "        self.model = model\n",
    "        self.durum = \"Durduruldu\"\n",
    "\n",
    "    def calistir(self):\n",
    "        self.durum = \"Çalışıyor\"\n",
    "        print(f\"{self.marka} {self.model} çalıştırıldı.\")\n",
    "\n",
    "    def durdur(self):\n",
    "        self.durum = \"Durduruldu\"\n",
    "        print(f\"{self.marka} {self.model} durduruldu.\")\n",
    "\n",
    "# Miras alan sınıf (subclass)\n",
    "class Otomobil(Arac):\n",
    "    def __init__(self, marka, model, yakit_tipi):\n",
    "        # Arac sınıfının __init__ metodunu çağırarak marka ve modeli ayarla\n",
    "        super().__init__(marka, model)\n",
    "        self.yakit_tipi = yakit_tipi\n",
    "\n",
    "    # Arac sınıfındaki calistir metodunu üzerine yaz\n",
    "    def calistir(self):\n",
    "        self.durum = \"Çalışıyor\"\n",
    "        print(f\"{self.marka} {self.model} çalıştırıldı. Yakıt türü: {self.yakit_tipi}\")\n",
    "\n",
    "# Miras alan sınıfın örneğini oluştur\n",
    "otomobil = Otomobil(marka=\"Toyota\", model=\"Corolla\", yakit_tipi=\"Benzin\")\n",
    "\n",
    "# Miras alan sınıfın metodlarını çağır\n",
    "otomobil.calistir()\n",
    "otomobil.durdur()\n"
   ]
  },
  {
   "cell_type": "code",
   "execution_count": 37,
   "id": "4db3c708",
   "metadata": {},
   "outputs": [
    {
     "name": "stdout",
     "output_type": "stream",
     "text": [
      "Toyota Corolla çalıştırıldı.\n",
      "Honda Civic çalıştırıldı. Yakıt türü: Benzin\n"
     ]
    }
   ],
   "source": [
    "#overriding\n",
    "# Üst sınıf (base class)\n",
    "class Arac:\n",
    "    def __init__(self, marka, model):\n",
    "        self.marka = marka\n",
    "        self.model = model\n",
    "        self.durum = \"Durduruldu\"\n",
    "\n",
    "    def calistir(self):\n",
    "        self.durum = \"Çalışıyor\"\n",
    "        print(f\"{self.marka} {self.model} çalıştırıldı.\")\n",
    "\n",
    "    def durdur(self):\n",
    "        self.durum = \"Durduruldu\"\n",
    "        print(f\"{self.marka} {self.model} durduruldu.\")\n",
    "\n",
    "# Alt sınıf (subclass)\n",
    "class Otomobil(Arac):\n",
    "    def __init__(self, marka, model, yakit_tipi):\n",
    "        super().__init__(marka, model)\n",
    "        self.yakit_tipi = yakit_tipi\n",
    "\n",
    "    # Üst sınıftaki calistir metodunu geçersiz kıl\n",
    "    def calistir(self):\n",
    "        self.durum = \"Çalışıyor\"\n",
    "        print(f\"{self.marka} {self.model} çalıştırıldı. Yakıt türü: {self.yakit_tipi}\")\n",
    "\n",
    "# Üst sınıfın bir örneği\n",
    "arac1 = Arac(marka=\"Toyota\", model=\"Corolla\")\n",
    "\n",
    "# Alt sınıfın bir örneği\n",
    "otomobil1 = Otomobil(marka=\"Honda\", model=\"Civic\", yakit_tipi=\"Benzin\")\n",
    "\n",
    "# Üst sınıfın metodu\n",
    "arac1.calistir()\n",
    "\n",
    "# Alt sınıfın metodu (override edilmiş)\n",
    "otomobil1.calistir()\n"
   ]
  },
  {
   "cell_type": "code",
   "execution_count": 38,
   "id": "813ea8c4",
   "metadata": {},
   "outputs": [
    {
     "name": "stdout",
     "output_type": "stream",
     "text": [
      "Generic Animal is speaking\n",
      "Buddy is speaking\n",
      "Buddy is barking\n"
     ]
    }
   ],
   "source": [
    "#__init_ and inheritance\n",
    "class Animal:\n",
    "    def __init__(self, name):\n",
    "        self.name = name\n",
    "\n",
    "    def speak(self):\n",
    "        print(f\"{self.name} is speaking\")\n",
    "\n",
    "class Dog(Animal):\n",
    "    def __init__(self, name, breed):\n",
    "        # Animal sınıfının __init__ metodunu çağırarak name'i ayarla\n",
    "        super().__init__(name)\n",
    "        self.breed = breed\n",
    "\n",
    "    def bark(self):\n",
    "        print(f\"{self.name} is barking\")\n",
    "\n",
    "# Animal sınıfından türetilmiş bir obje\n",
    "animal = Animal(\"Generic Animal\")\n",
    "animal.speak()\n",
    "\n",
    "# Dog sınıfından türetilmiş bir obje\n",
    "dog = Dog(\"Buddy\", \"Golden Retriever\")\n",
    "dog.speak()  # Animal sınıfının speak metodu çağrılacak\n",
    "dog.bark()   # Dog sınıfının bark metodu çağrılacak\n"
   ]
  },
  {
   "cell_type": "code",
   "execution_count": 39,
   "id": "54c83486",
   "metadata": {},
   "outputs": [
    {
     "name": "stdout",
     "output_type": "stream",
     "text": [
      "Animal is speaking\n",
      "Dog is barking\n"
     ]
    }
   ],
   "source": [
    "#is a relationship\n",
    "class Animal:\n",
    "    def speak(self):\n",
    "        print(\"Animal is speaking\")\n",
    "\n",
    "class Dog(Animal):\n",
    "    def bark(self):\n",
    "        print(\"Dog is barking\")\n",
    "\n",
    "# Dog sınıfı, Animal sınıfından türemiştir, yani Dog bir Animal'dir.\n",
    "# Bu durum \"is a relationship\" kavramını ifade eder.\n",
    "dog_instance = Dog()\n",
    "dog_instance.speak()  # Animal sınıfına ait bir metodu çağırabilir\n",
    "dog_instance.bark()   # Kendi metodu olan bark'ı çağırabilir\n"
   ]
  },
  {
   "cell_type": "code",
   "execution_count": 40,
   "id": "d6636056",
   "metadata": {},
   "outputs": [
    {
     "name": "stdout",
     "output_type": "stream",
     "text": [
      "MyBaseClass: Base Instance\n",
      "MyDerivedClass: Derived Instance\n"
     ]
    }
   ],
   "source": [
    "#object base class\n",
    "class MyBaseClass(object):\n",
    "    def __init__(self, name):\n",
    "        self.name = name\n",
    "\n",
    "    def display(self):\n",
    "        print(f\"MyBaseClass: {self.name}\")\n",
    "\n",
    "# Yukarıdaki sınıfı tanımlarken `object` sınıfından türetmeye gerek yoktur,\n",
    "# çünkü Python 3'te tüm sınıflar varsayılan olarak `object` sınıfından türetilir.\n",
    "# Ancak, açıklayıcı olması açısından ekledim.\n",
    "\n",
    "# MyBaseClass'tan türetilmiş yeni bir sınıf\n",
    "class MyDerivedClass(MyBaseClass):\n",
    "    def display(self):\n",
    "        print(f\"MyDerivedClass: {self.name}\")\n",
    "\n",
    "# MyBaseClass'tan türetilmiş bir obje\n",
    "base_instance = MyBaseClass(\"Base Instance\")\n",
    "base_instance.display()\n",
    "\n",
    "# MyDerivedClass'tan türetilmiş bir obje\n",
    "derived_instance = MyDerivedClass(\"Derived Instance\")\n",
    "derived_instance.display()\n"
   ]
  },
  {
   "cell_type": "code",
   "execution_count": 41,
   "id": "75f252bd",
   "metadata": {},
   "outputs": [
    {
     "name": "stdout",
     "output_type": "stream",
     "text": [
      "Animal is speaking\n",
      "Mammal gives birth\n",
      "Dog is barking\n"
     ]
    }
   ],
   "source": [
    "#multiple inheritance\n",
    "class Animal:\n",
    "    def speak(self):\n",
    "        print(\"Animal is speaking\")\n",
    "\n",
    "class Mammal:\n",
    "    def give_birth(self):\n",
    "        print(\"Mammal gives birth\")\n",
    "\n",
    "class Dog(Animal, Mammal):\n",
    "    def bark(self):\n",
    "        print(\"Dog is barking\")\n",
    "\n",
    "# Dog sınıfı, hem Animal hem de Mammal sınıflarından miras alıyor.\n",
    "# Bu durumda Dog sınıfı, Animal ve Mammal sınıflarının özelliklerini taşıyor.\n",
    "dog_instance = Dog()\n",
    "dog_instance.speak()        # Animal sınıfına ait bir metodu çağırabilir\n",
    "dog_instance.give_birth()   # Mammal sınıfına ait bir metodu çağırabilir\n",
    "dog_instance.bark()         # Kendi metodu olan bark'ı çağırabilir\n"
   ]
  },
  {
   "cell_type": "code",
   "execution_count": 42,
   "id": "0002ec1b",
   "metadata": {},
   "outputs": [
    {
     "name": "stdout",
     "output_type": "stream",
     "text": [
      "value1\n",
      "value2\n",
      "None\n",
      "None\n"
     ]
    }
   ],
   "source": [
    "#special methods for item access\n",
    "class MyContainer:\n",
    "    def __init__(self):\n",
    "        self.items = {}\n",
    "\n",
    "    def __setitem__(self, key, value):\n",
    "        self.items[key] = value\n",
    "\n",
    "    def __getitem__(self, key):\n",
    "        return self.items.get(key, None)\n",
    "\n",
    "    def __delitem__(self, key):\n",
    "        del self.items[key]\n",
    "\n",
    "# Bir nesne örneği oluşturuyoruz\n",
    "container = MyContainer()\n",
    "\n",
    "# __setitem__ metodu ile eleman ekliyoruz\n",
    "container[\"key1\"] = \"value1\"\n",
    "container[\"key2\"] = \"value2\"\n",
    "\n",
    "# __getitem__ metodu ile elemanlara erişiyoruz\n",
    "print(container[\"key1\"])  # Output: value1\n",
    "print(container[\"key2\"])  # Output: value2\n",
    "print(container[\"key3\"])  # Output: None\n",
    "\n",
    "# __delitem__ metodu ile elemanı siliyoruz\n",
    "del container[\"key1\"]\n",
    "\n",
    "# Silindikten sonra elemanın olup olmadığını kontrol ediyoruz\n",
    "print(container[\"key1\"])  # Output: None\n"
   ]
  },
  {
   "cell_type": "code",
   "execution_count": 43,
   "id": "e6ac1e48",
   "metadata": {},
   "outputs": [
    {
     "name": "stdout",
     "output_type": "stream",
     "text": [
      "42\n",
      "42\n"
     ]
    }
   ],
   "source": [
    "#bound methods\n",
    "class MyClass:\n",
    "    def __init__(self, value):\n",
    "        self.value = value\n",
    "\n",
    "    def print_value(self):\n",
    "        print(self.value)\n",
    "\n",
    "# MyClass'tan bir örnek oluşturalım\n",
    "obj = MyClass(42)\n",
    "\n",
    "# print_value metodu bir bound method'dur, çünkü obj örneği üzerinden çağrılabilir\n",
    "bound_method = obj.print_value\n",
    "\n",
    "# Bağlı metodun çağrılması\n",
    "bound_method()  # Output: 42\n",
    "\n",
    "# Alternatif olarak doğrudan sınıf üzerinden de çağrılabilir\n",
    "MyClass.print_value(obj)  # Output: 42\n"
   ]
  },
  {
   "cell_type": "code",
   "execution_count": null,
   "id": "89bad865",
   "metadata": {},
   "outputs": [],
   "source": []
  }
 ],
 "metadata": {
  "kernelspec": {
   "display_name": "Python 3 (ipykernel)",
   "language": "python",
   "name": "python3"
  },
  "language_info": {
   "codemirror_mode": {
    "name": "ipython",
    "version": 3
   },
   "file_extension": ".py",
   "mimetype": "text/x-python",
   "name": "python",
   "nbconvert_exporter": "python",
   "pygments_lexer": "ipython3",
   "version": "3.11.5"
  }
 },
 "nbformat": 4,
 "nbformat_minor": 5
}
